{
 "cells": [
  {
   "cell_type": "code",
   "execution_count": 1,
   "metadata": {
    "collapsed": false
   },
   "outputs": [],
   "source": [
    "import numpy as np\n",
    "from matplotlib import pyplot as plt\n",
    "from matplotlib.colors import Normalize as norm\n",
    "from matplotlib import use\n",
    "from subprocess import check_output\n",
    "import random\n",
    "import png\n",
    "import string\n",
    "import os\n",
    "import pickle\n",
    "import shutil\n",
    "\n",
    "video_title = 'GOOSE'\n",
    "\n",
    "TFMs = pickle.load(open('TFMs.bin','rb'))"
   ]
  },
  {
   "cell_type": "code",
   "execution_count": 2,
   "metadata": {
    "collapsed": false
   },
   "outputs": [],
   "source": [
    "ffmpeg_path = 'D:\\\\FFMPEG\\\\bin\\\\ffmpeg.exe'\n",
    "temp_path = 'D:\\\\Temp\\\\'\n",
    "random_folder = 'D:\\\\Temp\\\\'+''.join(random.choices(string.ascii_lowercase + string.digits, k=20))+'\\\\'\n",
    "cmap = plt.get_cmap()\n",
    "\n",
    "if not os.path.exists(random_folder):\n",
    "    os.makedirs(random_folder)"
   ]
  },
  {
   "cell_type": "code",
   "execution_count": 4,
   "metadata": {
    "collapsed": false,
    "scrolled": true
   },
   "outputs": [
    {
     "name": "stderr",
     "output_type": "stream",
     "text": [
      "C:\\ProgramData\\Anaconda3\\lib\\site-packages\\matplotlib\\__init__.py:1401: UserWarning:  This call to matplotlib.use() has no effect\n",
      "because the backend has already been chosen;\n",
      "matplotlib.use() must be called *before* pylab, matplotlib.pyplot,\n",
      "or matplotlib.backends is imported for the first time.\n",
      "\n",
      "  warnings.warn(_use_error_msg)\n"
     ]
    }
   ],
   "source": [
    "use('Agg')\n",
    "fig = plt.figure()\n",
    "ax = fig.add_subplot(111)\n",
    "for idx,TFM in enumerate(TFMs):\n",
    "    img = plt.imshow(TFM)\n",
    "    plt.clim(-30,0)\n",
    "    plt.axis('off')\n",
    "    fig.subplots_adjust(top = 1, bottom = 0, right = 1, left = 0, \n",
    "                hspace = 0, wspace = 0)\n",
    "    ax.margins(0,0)\n",
    "    ax.xaxis.set_major_locator(plt.NullLocator())\n",
    "    ax.yaxis.set_major_locator(plt.NullLocator())\n",
    "    plt.savefig(random_folder+'TFM{0:05d}.png'.format(idx),bbox_inches='tight',pad_inches=0)"
   ]
  },
  {
   "cell_type": "code",
   "execution_count": 5,
   "metadata": {
    "collapsed": false
   },
   "outputs": [],
   "source": [
    "ffmpeg_command  = '{} -f image2 -r 24 -i \"{}TFM%05d.png\" -vcodec h264 -y {}{}.mp4'.format(ffmpeg_path,random_folder,random_folder,video_title)\n",
    "returned = check_output(ffmpeg_command,shell=True)"
   ]
  },
  {
   "cell_type": "code",
   "execution_count": 6,
   "metadata": {
    "collapsed": false
   },
   "outputs": [
    {
     "data": {
      "text/plain": [
       "'C:\\\\Users\\\\Tim\\\\Documents\\\\Notebooks\\\\Goose\\\\GOOSE.mp4'"
      ]
     },
     "execution_count": 6,
     "metadata": {},
     "output_type": "execute_result"
    }
   ],
   "source": [
    "shutil.copyfile('{}{}.mp4'.format(random_folder,video_title),'{}\\\\{}.mp4'.format(os.getcwd(),video_title))"
   ]
  },
  {
   "cell_type": "code",
   "execution_count": 7,
   "metadata": {
    "collapsed": false,
    "scrolled": true
   },
   "outputs": [],
   "source": [
    "shutil.rmtree(random_folder)"
   ]
  },
  {
   "cell_type": "code",
   "execution_count": 16,
   "metadata": {
    "collapsed": false
   },
   "outputs": [
    {
     "name": "stdout",
     "output_type": "stream",
     "text": [
      "HA!: 0\n"
     ]
    }
   ],
   "source": [
    "for idx,TFM in enumerate(TFMs):\n",
    "    if np.array_equal(TFMs[0],TFM):\n",
    "        print('HA!: {}'.format(idx))"
   ]
  }
 ],
 "metadata": {
  "anaconda-cloud": {},
  "kernelspec": {
   "display_name": "Python 3",
   "language": "python",
   "name": "python3"
  },
  "language_info": {
   "codemirror_mode": {
    "name": "ipython",
    "version": 3
   },
   "file_extension": ".py",
   "mimetype": "text/x-python",
   "name": "python",
   "nbconvert_exporter": "python",
   "pygments_lexer": "ipython3",
   "version": "3.6.0"
  }
 },
 "nbformat": 4,
 "nbformat_minor": 1
}
