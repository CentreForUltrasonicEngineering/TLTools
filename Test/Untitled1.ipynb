{
 "cells": [
  {
   "cell_type": "code",
   "execution_count": null,
   "metadata": {
    "collapsed": false
   },
   "outputs": [],
   "source": [
    "%matplotlib inline\n",
    "from TLTools import Imaging\n",
    "from TLTools import Acquisition\n",
    "import scipy.io as sio\n",
    "\n",
    "DSL = Acquisition.DSL()\n",
    "TFM = Imaging.PyTFM()"
   ]
  },
  {
   "cell_type": "code",
   "execution_count": null,
   "metadata": {
    "collapsed": true
   },
   "outputs": [],
   "source": [
    "FMC = DSL.getU64Stream()\n",
    "TFM.TLuploadFMC(FMC)\n",
    "TFM.buildProbe(0.7e-3)\n",
    "TFM.setParameters(Velocity1=5790)\n",
    "TFM.setRefraction(RefractionType='None')\n",
    "TFM.raiseArrayToHeight(0)\n",
    "TFM.setImage(y0=-20e-3,ny=1024,y1=20e-3,z0=0,nz=1024,z1=-30e-3)\n",
    "TFM.printTFM()\n"
   ]
  }
 ],
 "metadata": {
  "kernelspec": {
   "display_name": "Python 3",
   "language": "python",
   "name": "python3"
  },
  "language_info": {
   "codemirror_mode": {
    "name": "ipython",
    "version": 3
   },
   "file_extension": ".py",
   "mimetype": "text/x-python",
   "name": "python",
   "nbconvert_exporter": "python",
   "pygments_lexer": "ipython3",
   "version": "3.6.0"
  }
 },
 "nbformat": 4,
 "nbformat_minor": 2
}
