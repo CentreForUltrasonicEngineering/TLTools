{
 "cells": [
  {
   "cell_type": "code",
   "execution_count": null,
   "metadata": {
    "collapsed": true
   },
   "outputs": [],
   "source": [
    "%matplotlib inline\n",
    "from TLTools import Imaging\n",
    "from TLTools import Acquisition\n",
    "from matplotlib import pyplot as plt\n",
    "from IPython import display\n",
    "\n",
    "DSL = Acquisition.DSL()\n",
    "TFM = Imaging.PyTFM()\n"
   ]
  },
  {
   "cell_type": "code",
   "execution_count": null,
   "metadata": {
    "collapsed": false
   },
   "outputs": [],
   "source": [
    "FMC = DSL.acquire_single_FMC()\n",
    "TFM.TLuploadFMC(FMC)\n",
    "TFM.buildProbe(0.7e-3)\n",
    "TFM.setParameters(Velocity1=5790)\n",
    "TFM.setRefraction(RefractionType='None')\n",
    "TFM.raiseArrayToHeight(0)\n",
    "TFM.setImage(y0=-20e-3,ny=512,y1=20e-3,z0=0,nz=512,z1=-85e-3)"
   ]
  },
  {
   "cell_type": "code",
   "execution_count": null,
   "metadata": {
    "collapsed": false
   },
   "outputs": [],
   "source": [
    "while True:\n",
    "    FMC = DSL.acquire_single_FMC()\n",
    "    TFM.TLuploadFMC(FMC)\n",
    "    TFM_plot = TFM.get_log_TFM()\n",
    "    plt.clf()\n",
    "    plt.gca().cla() \n",
    "    image = plt.imshow(TFM_plot,interpolation='nearest',animated=True,label=\"TFM4DAYS\",extent=(min(TFM.y),max(TFM.y),min(TFM.z),max(TFM.z)))\n",
    "    plt.clim(-20,0)\n",
    "    plt.colorbar()\n",
    "    plt.title('TFM Image')\n",
    "    plt.xticks(rotation=45)\n",
    "    #image.set_data(TFM_plot)\n",
    "    display.clear_output(wait=True)\n",
    "    display.display(plt.gcf())     "
   ]
  }
 ],
 "metadata": {
  "kernelspec": {
   "display_name": "Python 3",
   "language": "python",
   "name": "python3"
  },
  "language_info": {
   "codemirror_mode": {
    "name": "ipython",
    "version": 3
   },
   "file_extension": ".py",
   "mimetype": "text/x-python",
   "name": "python",
   "nbconvert_exporter": "python",
   "pygments_lexer": "ipython3",
   "version": "3.6.0"
  }
 },
 "nbformat": 4,
 "nbformat_minor": 2
}
