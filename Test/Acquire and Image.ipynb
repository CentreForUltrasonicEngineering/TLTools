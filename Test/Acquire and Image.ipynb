{
 "cells": [
  {
   "cell_type": "code",
   "execution_count": 1,
   "metadata": {
    "collapsed": false
   },
   "outputs": [],
   "source": [
    "%matplotlib inline\n",
    "#from TLTools import Imaging\n",
    "#from TLTools import Acquisition\n",
    "import Imaging\n",
    "import Acquisition\n",
    "from IPython.display import clear_output\n",
    "import scipy.io as sio\n",
    "\n",
    "DSL = Acquisition.DSL()\n",
    "TFM = Imaging.PyTFM()\n"
   ]
  },
  {
   "cell_type": "code",
   "execution_count": 2,
   "metadata": {
    "collapsed": true
   },
   "outputs": [],
   "source": [
    "DSL.getDataParams()\n",
    "DSL.buildLookupTable()"
   ]
  },
  {
   "cell_type": "code",
   "execution_count": null,
   "metadata": {
    "collapsed": false
   },
   "outputs": [],
   "source": [
    "from IPython.display import clear_output\n",
    "\n",
    "while True:\n",
    "    FMC = DSL.getU64Stream()\n",
    "    TFM.TLuploadFMC(FMC)\n",
    "    TFM.buildProbe(0.7e-3)\n",
    "    TFM.setParameters(Velocity1=5790)\n",
    "    TFM.setRefraction(RefractionType='None')\n",
    "    TFM.raiseArrayToHeight(0)\n",
    "    TFM.setImage(y0=-20e-3,ny=1024,y1=20e-3,z0=0,nz=1024,z1=-100e-3)\n",
    "    clear_output()\n",
    "    TFM.printTFM()\n",
    "    "
   ]
  },
  {
   "cell_type": "code",
   "execution_count": null,
   "metadata": {
    "collapsed": false
   },
   "outputs": [],
   "source": [
    "\n",
    "\n",
    "DSL.buildLookupTable()\n",
    "print(DSL.U64_samples)\n",
    "FMC = DSL.getU64Stream()\n",
    "print(FMC.n_samples)\n",
    "print(len(FMC.Stream))\n",
    "FMC.unpack()\n",
    "print(FMC.LookupTable)\n",
    "print(FMC.FMC)"
   ]
  },
  {
   "cell_type": "code",
   "execution_count": null,
   "metadata": {
    "collapsed": false
   },
   "outputs": [],
   "source": [
    "from ctypes import *\n",
    "import numpy as np\n",
    "\n",
    "FMC_LUT = np.zeros((32, 32)).astype(np.int32)\n",
    "U64_idx = c_int(0)\n",
    "U64_stp = c_int(0)\n",
    "\n",
    "Frame_ID = c_int(1)\n",
    "Sample_ID = c_int(0)\n",
    "\n",
    "for tx in range(32):\n",
    "    for rx in range(32):\n",
    "        DSL.DSL.GetU64streamIndexAndStep(Frame_ID, c_int(tx), c_int(rx), Sample_ID, DSL.timeout, byref(U64_idx), byref(U64_stp))\n",
    "        FMC_LUT[tx, rx] = U64_idx.value\n",
    "        \n",
    "U64_idx.value"
   ]
  }
 ],
 "metadata": {
  "kernelspec": {
   "display_name": "Python 3",
   "language": "python",
   "name": "python3"
  },
  "language_info": {
   "codemirror_mode": {
    "name": "ipython",
    "version": 3
   },
   "file_extension": ".py",
   "mimetype": "text/x-python",
   "name": "python",
   "nbconvert_exporter": "python",
   "pygments_lexer": "ipython3",
   "version": "3.6.0"
  }
 },
 "nbformat": 4,
 "nbformat_minor": 2
}
